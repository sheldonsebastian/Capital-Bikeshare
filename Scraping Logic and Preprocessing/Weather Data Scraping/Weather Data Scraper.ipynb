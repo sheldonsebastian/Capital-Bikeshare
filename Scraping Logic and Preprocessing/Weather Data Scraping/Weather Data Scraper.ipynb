{
 "cells": [
  {
   "cell_type": "code",
   "execution_count": null,
   "metadata": {},
   "outputs": [],
   "source": [
    "from bs4 import BeautifulSoup\n",
    "import csv\n",
    "import pandas as pd\n",
    "from selenium import webdriver\n",
    "import winsound"
   ]
  },
  {
   "cell_type": "code",
   "execution_count": null,
   "metadata": {
    "scrolled": false
   },
   "outputs": [],
   "source": [
    "datelist = pd.date_range(\"2013-09-30\",\"2019-10-01\").tolist()\n",
    "options = webdriver.ChromeOptions()\n",
    "options.add_argument(\"headless\")\n",
    "options.add_argument(\"--start-maximized\");\n",
    "\n",
    "for d in datelist:\n",
    "    dateAsString = str(d.date())\n",
    "    print(\"https://www.wunderground.com/history/daily/us/va/arlington-county/KDCA/date/\"+dateAsString)\n",
    "      \n",
    "    try:    \n",
    "        driver = webdriver.Chrome('E:\\\\SW\\\\chromedriver_win32\\\\chromedriver.exe', options=options)\n",
    "        driver.get(\"https://www.wunderground.com/history/daily/us/va/arlington-county/KDCA/date/\"+dateAsString)\n",
    "        soup = BeautifulSoup(driver.page_source,'lxml')\n",
    "\n",
    "        with open(\"weatherDataScraped\"+dateAsString+\".csv\",\"w\") as f:\n",
    "            headerList = []\n",
    "            for x in soup.find(\"table\",attrs={\"class\":\"tablesaw-sortable\"}).find_all(\"button\",attrs={\"class\":\"tablesaw-sortable-btn\"}):\n",
    "                headerList.append(x.text)\n",
    "            f.write(\",\".join(headerList))\n",
    "            f.write(\"\\n\")\n",
    "            for eachTr in soup.find(\"table\",attrs={\"class\":\"tablesaw-sortable\"}).find_all(\"tr\"):\n",
    "                dataList=[]\n",
    "                for eachSpan in eachTr.find_all(\"td\"):\n",
    "                    dataList.append(eachSpan.contents[1].text.strip().replace(\"\\n\",\"\"))\n",
    "                if(len(dataList)>0):\n",
    "                    dataList[0] = dateAsString + \" \" + dataList[0]\n",
    "                data = \",\".join(dataList)\n",
    "                if(data!=\"\"):\n",
    "                    f.write(data)\n",
    "                    f.write(\"\\n\")\n",
    "\n",
    "        driver.close()\n",
    "    except:\n",
    "        print(\"Failed \"+ dateAsString) # improvement possible by keeping track of all failed dates in list\n",
    "        driver.close()\n",
    "        \n",
    "winsound.Beep(2500, 1000)"
   ]
  },
  {
   "cell_type": "code",
   "execution_count": null,
   "metadata": {},
   "outputs": [],
   "source": []
  },
  {
   "cell_type": "code",
   "execution_count": null,
   "metadata": {},
   "outputs": [],
   "source": []
  },
  {
   "cell_type": "code",
   "execution_count": null,
   "metadata": {},
   "outputs": [],
   "source": []
  },
  {
   "cell_type": "code",
   "execution_count": 7,
   "metadata": {},
   "outputs": [],
   "source": [
    "# aggregating individual CSV files into 1 file\n",
    "def aggregateDates(combinedDataFrame):\n",
    "\n",
    "    # convert string into pandas datetime object AND\n",
    "    # convert per hour data to closest hour based on greater than 30 or less than 30 minutes :: use pandas method\n",
    "    combinedDataFrame['Time'] = pd.to_datetime(combinedDataFrame['Time'],format=\"%Y-%m-%d %I:%M %p\")\n",
    "    combinedDataFrame['Time'] = combinedDataFrame['Time'].dt.round(\"60min\")\n",
    "    \n",
    "    #convert string into integers\n",
    "    combinedDataFrame[\"Temperature\"] = pd.to_numeric(combinedDataFrame[\"Temperature\"].str.replace(\"[^0-9.]\",\"\"))\n",
    "    combinedDataFrame[\"Dew Point\"] = pd.to_numeric(combinedDataFrame[\"Dew Point\"].str.replace(\"[^0-9.]\",\"\"))\n",
    "    combinedDataFrame[\"Humidity\"] = pd.to_numeric(combinedDataFrame[\"Humidity\"].str.replace(\"[^0-9.]\",\"\"))\n",
    "    combinedDataFrame[\"Wind Speed\"] = pd.to_numeric(combinedDataFrame[\"Wind Speed\"].str.replace(\"[^0-9.]\",\"\"))\n",
    "    combinedDataFrame[\"Wind Gust\"] = pd.to_numeric(combinedDataFrame[\"Wind Gust\"].str.replace(\"[^0-9.]\",\"\"))\n",
    "    combinedDataFrame[\"Pressure\"] = pd.to_numeric(combinedDataFrame[\"Pressure\"].str.replace(\"[^0-9.]\",\"\"))\n",
    "    combinedDataFrame[\"Precip.\"] = pd.to_numeric(combinedDataFrame[\"Precip.\"].str.replace(\"[^0-9.]\",\"\"))\n",
    "\n",
    "    # split apply combine\n",
    "    # aggregating based on individual columns\n",
    "    # if multiple hours present then average the numerical values to 1 value, if multiple categorical values present then use least recent weather condition while aggregating\n",
    "    return combinedDataFrame.groupby(\"Time\",as_index=False).agg({'Condition':'last',\n",
    "                                                        'Wind':'last',\n",
    "                                                        \"Temperature\":\"mean\",\n",
    "                                                        \"Dew Point\":\"mean\",\n",
    "                                                        \"Humidity\":\"mean\",\n",
    "                                                        \"Wind Speed\":\"mean\",\n",
    "                                                        \"Wind Gust\":\"mean\",\n",
    "                                                        \"Pressure\":\"mean\",\n",
    "                                                        \"Precip.\":\"mean\"}).sort_values(\"Time\")"
   ]
  },
  {
   "cell_type": "code",
   "execution_count": 8,
   "metadata": {},
   "outputs": [],
   "source": [
    "from os import listdir\n",
    "\n",
    "filepaths = [f for f in listdir(\".\") if f.endswith('.csv')] #list comprehension\n",
    "df = pd.concat(map(pd.read_csv, filepaths))\n",
    "df.reset_index(inplace=True)"
   ]
  },
  {
   "cell_type": "code",
   "execution_count": 9,
   "metadata": {},
   "outputs": [],
   "source": [
    "aggregateDates(df).to_csv(\"aggregatedWeatherData.csv\",index=False)"
   ]
  },
  {
   "cell_type": "code",
   "execution_count": null,
   "metadata": {},
   "outputs": [],
   "source": []
  }
 ],
 "metadata": {
  "kernelspec": {
   "display_name": "Python 3",
   "language": "python",
   "name": "python3"
  },
  "language_info": {
   "codemirror_mode": {
    "name": "ipython",
    "version": 3
   },
   "file_extension": ".py",
   "mimetype": "text/x-python",
   "name": "python",
   "nbconvert_exporter": "python",
   "pygments_lexer": "ipython3",
   "version": "3.7.3"
  }
 },
 "nbformat": 4,
 "nbformat_minor": 2
}
